{
 "cells": [
  {
   "cell_type": "code",
   "execution_count": 3,
   "metadata": {},
   "outputs": [],
   "source": [
    "import torch\n",
    "import pandas as pd\n",
    "import numpy as np\n",
    "import matplotlib.pyplot as plot"
   ]
  },
  {
   "cell_type": "markdown",
   "metadata": {},
   "source": [
    "Finding Min , Max , Mean , Sum etc (Tensor aggregation)"
   ]
  },
  {
   "cell_type": "code",
   "execution_count": 4,
   "metadata": {},
   "outputs": [
    {
     "name": "stdout",
     "output_type": "stream",
     "text": [
      "tensor([ 0, 10, 20, 30, 40, 50, 60, 70, 80, 90])\n",
      "tensor(0) tensor(0)\n",
      "tensor(90) tensor(90)\n"
     ]
    },
    {
     "data": {
      "text/plain": [
       "tensor(45.)"
      ]
     },
     "execution_count": 4,
     "metadata": {},
     "output_type": "execute_result"
    }
   ],
   "source": [
    "#  create a tensor\n",
    "\n",
    "x = torch.arange(0,100 ,10)\n",
    "\n",
    "print(x)\n",
    "# find min and max\n",
    "print(torch.min(x) , x.min())\n",
    "print(torch.max(x) , x.max() ) \n",
    "\n",
    "torch.mean(x.type(torch.float32))\n"
   ]
  },
  {
   "cell_type": "markdown",
   "metadata": {},
   "source": [
    "Finding positional min and max"
   ]
  },
  {
   "cell_type": "code",
   "execution_count": 5,
   "metadata": {},
   "outputs": [
    {
     "name": "stdout",
     "output_type": "stream",
     "text": [
      "tensor(0)\n",
      "tensor(9)\n"
     ]
    }
   ],
   "source": [
    "# Find the position in tensor that has the minimum value with argmin()\n",
    "x.argmin()\n",
    "print(x.argmin())\n",
    "\n",
    "# argmax()\n",
    "\n",
    "print(x.argmax())\n"
   ]
  },
  {
   "cell_type": "markdown",
   "metadata": {},
   "source": [
    "* Reshaping - reshape a tensor into desired shape\n",
    "* view - return a view of an input tensor of certain shape but keep the same memory as the original tensor\n",
    "* stacking - combined multiple tensors on top of each other\n",
    "* squeeze - remove all '1' dimensions from a tensor\n",
    "* unsqueeze - add a '1' dimension to a target tensor\n",
    "* permute - Return a view of the input with dimensions permuted(swapped) in a certain way\n"
   ]
  },
  {
   "cell_type": "code",
   "execution_count": 6,
   "metadata": {},
   "outputs": [
    {
     "name": "stdout",
     "output_type": "stream",
     "text": [
      "tensor([ 1.,  2.,  3.,  4.,  5.,  6.,  7.,  8.,  9., 10.]) torch.Size([10])\n",
      "tensor([[ 1.,  2.],\n",
      "        [ 3.,  4.],\n",
      "        [ 5.,  6.],\n",
      "        [ 7.,  8.],\n",
      "        [ 9., 10.]])\n"
     ]
    }
   ],
   "source": [
    "# Reshaping , stacking , squeezing and unsqueezing tensors\n",
    "y = torch.arange(1. , 11.)\n",
    "print(y , y.shape)\n",
    "\n",
    "# add an extra dimension\n",
    "y_reshaped = y.reshape(5,2)\n",
    "\n",
    "print(y_reshaped)"
   ]
  },
  {
   "cell_type": "code",
   "execution_count": 25,
   "metadata": {},
   "outputs": [
    {
     "name": "stdout",
     "output_type": "stream",
     "text": [
      "tensor([[ 1.,  2.,  3.,  4.,  5.],\n",
      "        [ 6.,  7.,  8.,  9., 10.]]) torch.Size([2, 5])\n"
     ]
    }
   ],
   "source": [
    "# change the view\n",
    "\n",
    "z = y.view(2,5)\n",
    "\n",
    "print(z , z.shape)\n"
   ]
  },
  {
   "cell_type": "code",
   "execution_count": 29,
   "metadata": {},
   "outputs": [
    {
     "name": "stdout",
     "output_type": "stream",
     "text": [
      "tensor([[ 1.,  1.,  1.,  1.],\n",
      "        [ 2.,  2.,  2.,  2.],\n",
      "        [ 3.,  3.,  3.,  3.],\n",
      "        [ 4.,  4.,  4.,  4.],\n",
      "        [ 5.,  5.,  5.,  5.],\n",
      "        [ 6.,  6.,  6.,  6.],\n",
      "        [ 7.,  7.,  7.,  7.],\n",
      "        [ 8.,  8.,  8.,  8.],\n",
      "        [ 9.,  9.,  9.,  9.],\n",
      "        [10., 10., 10., 10.]])\n"
     ]
    }
   ],
   "source": [
    "# Stack tensors on top of each other\n",
    "\n",
    "y_stacked = torch.stack([y,y,y,y], dim=1)\n",
    "\n",
    "print(y_stacked)"
   ]
  },
  {
   "cell_type": "markdown",
   "metadata": {},
   "source": [
    "Torch Squeeze an unsqueeze"
   ]
  },
  {
   "cell_type": "code",
   "execution_count": 13,
   "metadata": {},
   "outputs": [
    {
     "name": "stdout",
     "output_type": "stream",
     "text": [
      "tensor([[ 1.,  2.],\n",
      "        [ 3.,  4.],\n",
      "        [ 5.,  6.],\n",
      "        [ 7.,  8.],\n",
      "        [ 9., 10.]]) torch.Size([5, 2])\n",
      "tensor([[ 1.,  2.],\n",
      "        [ 3.,  4.],\n",
      "        [ 5.,  6.],\n",
      "        [ 7.,  8.],\n",
      "        [ 9., 10.]]) torch.Size([5, 2])\n",
      "torch.Size([8])\n"
     ]
    }
   ],
   "source": [
    "# Squeeze method remove all single dimensions\n",
    "\n",
    "print(y_reshaped , y_reshaped.shape)\n",
    "\n",
    "print(y_reshaped.squeeze() , y_reshaped.squeeze().shape)\n",
    "\n",
    "sqz = torch.rand(1,8)\n",
    "print(sqz.squeeze().shape)\n"
   ]
  },
  {
   "cell_type": "code",
   "execution_count": 22,
   "metadata": {},
   "outputs": [
    {
     "name": "stdout",
     "output_type": "stream",
     "text": [
      "torch.Size([5, 2, 1])\n"
     ]
    }
   ],
   "source": [
    "# Adding the extra dimension with unsqueeze\n",
    "\n",
    "print(y_reshaped.unsqueeze(dim=2).shape)"
   ]
  },
  {
   "cell_type": "code",
   "execution_count": 25,
   "metadata": {},
   "outputs": [
    {
     "name": "stdout",
     "output_type": "stream",
     "text": [
      "torch.Size([224, 224, 4])\n",
      "torch.Size([4, 224, 224])\n"
     ]
    }
   ],
   "source": [
    "#  Torch permute to shuffle the position \n",
    "\n",
    "clr = torch.rand(size=(224, 224,4))\n",
    "\n",
    "print(clr.shape)\n",
    "\n",
    "print(clr.permute(2,0,1).shape)"
   ]
  },
  {
   "cell_type": "code",
   "execution_count": 1,
   "metadata": {},
   "outputs": [
    {
     "name": "stdout",
     "output_type": "stream",
     "text": [
      "tensor([[[1, 2, 3],\n",
      "         [4, 5, 6],\n",
      "         [7, 8, 9]]])\n",
      "tensor([1, 2, 3])\n",
      "tensor(1)\n",
      "tensor([[2, 5, 8]])\n"
     ]
    }
   ],
   "source": [
    "# Indexing (selecting data from tensors)\n",
    "\n",
    "import torch\n",
    "x = torch.arange(1,10).reshape(1,3,3)\n",
    "print(x)\n",
    "\n",
    "# index of \n",
    "print(x[0][0])\n",
    "print(x[0][0][0])\n",
    "\n",
    "print(x[: ,: ,1])\n"
   ]
  },
  {
   "cell_type": "code",
   "execution_count": 3,
   "metadata": {},
   "outputs": [
    {
     "name": "stdout",
     "output_type": "stream",
     "text": [
      "[1 2 3 4 5 6 7] tensor([1, 2, 3, 4, 5, 6, 7], dtype=torch.int32)\n",
      "[1. 1. 1. 1. 1. 1. 1.]\n"
     ]
    }
   ],
   "source": [
    "# Numpy array to tensor\n",
    "\n",
    "import torch\n",
    "import numpy as np \n",
    "\n",
    "array = np.arange(1,8)\n",
    "tensor = torch.from_numpy(array)\n",
    "\n",
    "print(array , tensor)\n",
    "\n",
    "# Tensors to numpy\n",
    "\n",
    "tensor = torch.ones(7)\n",
    "numpy_tnsr = tensor.numpy()\n",
    "\n",
    "print(numpy_tnsr)\n"
   ]
  },
  {
   "cell_type": "markdown",
   "metadata": {},
   "source": [
    "Reproduciblity (Trying to take random out of random)\n",
    "\n",
    "In short how a neural network learns:"
   ]
  },
  {
   "cell_type": "code",
   "execution_count": 23,
   "metadata": {},
   "outputs": [
    {
     "name": "stdout",
     "output_type": "stream",
     "text": [
      "tensor([[0.1153, 0.5415, 0.3858, 0.0386],\n",
      "        [0.4721, 0.7082, 0.0312, 0.5966],\n",
      "        [0.6048, 0.0229, 0.2223, 0.3482]])\n",
      "tensor([[0.0615, 0.8682, 0.3024, 0.4611],\n",
      "        [0.9162, 0.8129, 0.8826, 0.2757],\n",
      "        [0.0404, 0.5932, 0.6248, 0.6995]])\n",
      "tensor([[False, False, False, False],\n",
      "        [False, False, False, False],\n",
      "        [False, False, False, False]])\n"
     ]
    }
   ],
   "source": [
    "#  random seed\n",
    "a = torch.rand(3,4)\n",
    "b = torch.rand(3,4)\n",
    "\n",
    "print(a)\n",
    "print(b)\n",
    "print(a == b)"
   ]
  },
  {
   "cell_type": "code",
   "execution_count": 31,
   "metadata": {},
   "outputs": [
    {
     "name": "stdout",
     "output_type": "stream",
     "text": [
      "tensor([[0.7644, 0.3751, 0.0751, 0.5308],\n",
      "        [0.9660, 0.2770, 0.3372, 0.8910],\n",
      "        [0.4304, 0.3090, 0.3993, 0.5183]])\n",
      "tensor([[0.7644, 0.3751, 0.0751, 0.5308],\n",
      "        [0.9660, 0.2770, 0.3372, 0.8910],\n",
      "        [0.4304, 0.3090, 0.3993, 0.5183]])\n",
      "tensor([[True, True, True, True],\n",
      "        [True, True, True, True],\n",
      "        [True, True, True, True]])\n"
     ]
    }
   ],
   "source": [
    "#  Lets make some random but reproducible tensors\n",
    "#  set the random seeds (manual seed)\n",
    "\n",
    "RANDOM_SEED = 24\n",
    "torch.manual_seed(RANDOM_SEED)\n",
    "\n",
    "c = torch.rand(3,4)\n",
    "torch.manual_seed(RANDOM_SEED)\n",
    "d = torch.rand(3,4)\n",
    "print(c)\n",
    "print(d)\n",
    "print(c==d)\n",
    "\n"
   ]
  },
  {
   "cell_type": "code",
   "execution_count": 32,
   "metadata": {},
   "outputs": [
    {
     "data": {
      "text/plain": [
       "False"
      ]
     },
     "execution_count": 32,
     "metadata": {},
     "output_type": "execute_result"
    }
   ],
   "source": [
    "torch.cuda.is_available()"
   ]
  }
 ],
 "metadata": {
  "kernelspec": {
   "display_name": "Python 3",
   "language": "python",
   "name": "python3"
  },
  "language_info": {
   "codemirror_mode": {
    "name": "ipython",
    "version": 3
   },
   "file_extension": ".py",
   "mimetype": "text/x-python",
   "name": "python",
   "nbconvert_exporter": "python",
   "pygments_lexer": "ipython3",
   "version": "3.10.5"
  }
 },
 "nbformat": 4,
 "nbformat_minor": 2
}
