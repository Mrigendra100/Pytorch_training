{
 "cells": [
  {
   "cell_type": "code",
   "execution_count": 2,
   "metadata": {},
   "outputs": [],
   "source": [
    "import torch\n",
    "import pandas as pd\n",
    "import numpy as np\n",
    "import matplotlib.pyplot as plot"
   ]
  },
  {
   "cell_type": "markdown",
   "metadata": {},
   "source": [
    "Random Tensors\n",
    "\n",
    "Random tensors are important because the way many neural networks learn is that they start tensors full of random numbers and then adjust those random numbers to better represent the data"
   ]
  },
  {
   "cell_type": "code",
   "execution_count": 7,
   "metadata": {},
   "outputs": [
    {
     "name": "stdout",
     "output_type": "stream",
     "text": [
      "tensor([[0.8851, 0.9925, 0.0789, 0.2841],\n",
      "        [0.0298, 0.7255, 0.7878, 0.0726],\n",
      "        [0.7838, 0.2365, 0.1850, 0.7478]])\n",
      "2\n"
     ]
    }
   ],
   "source": [
    "#  Create a random tensors using pytorch of shape (3,4)\n",
    "\n",
    "random_tensor = torch.rand(3,4 )\n",
    "\n",
    "print(random_tensor)\n",
    "print(random_tensor.ndim)"
   ]
  },
  {
   "cell_type": "code",
   "execution_count": 10,
   "metadata": {},
   "outputs": [
    {
     "name": "stdout",
     "output_type": "stream",
     "text": [
      "torch.Size([224, 224, 3]) 3\n"
     ]
    }
   ],
   "source": [
    "#  Create a random tensor with similar shape to an image tensor\n",
    "\n",
    "random_image_size_tensor = torch.rand(size=(224,224,3))\n",
    "print(random_image_size_tensor.shape , random_image_size_tensor.ndim )"
   ]
  },
  {
   "cell_type": "code",
   "execution_count": 12,
   "metadata": {},
   "outputs": [
    {
     "name": "stdout",
     "output_type": "stream",
     "text": [
      "tensor([[0., 0., 0., 0.],\n",
      "        [0., 0., 0., 0.],\n",
      "        [0., 0., 0., 0.]])\n",
      "tensor([[1., 1., 1., 1.],\n",
      "        [1., 1., 1., 1.],\n",
      "        [1., 1., 1., 1.]])\n"
     ]
    }
   ],
   "source": [
    "# Zeros and ones  \n",
    "# create a tensor of all zeros\n",
    "\n",
    "Zero_Tensor = torch.zeros(3,4)\n",
    "\n",
    "print(Zero_Tensor)\n",
    "\n",
    "Ones = torch.ones(3,4)\n",
    "print(Ones)"
   ]
  },
  {
   "cell_type": "markdown",
   "metadata": {},
   "source": [
    "Creating Range of Tensors and tensors-like"
   ]
  },
  {
   "cell_type": "code",
   "execution_count": 16,
   "metadata": {},
   "outputs": [
    {
     "name": "stdout",
     "output_type": "stream",
     "text": [
      "1\n",
      "tensor([ 3,  5,  7,  9, 11, 13, 15, 17, 19, 21, 23])\n"
     ]
    }
   ],
   "source": [
    "#  use torch.range()\n",
    "\n",
    "tens_arrange = torch.arange(1,11)\n",
    "steparrange = torch.arange(start=3 , end=24 , step=2)\n",
    "\n",
    "print(tens_arrange.ndim)\n",
    "print(steparrange)\n",
    "\n"
   ]
  },
  {
   "cell_type": "code",
   "execution_count": 19,
   "metadata": {},
   "outputs": [
    {
     "name": "stdout",
     "output_type": "stream",
     "text": [
      "tensor([0, 0, 0, 0, 0, 0, 0, 0, 0, 0])\n"
     ]
    }
   ],
   "source": [
    "#  Creating tensors like\n",
    "tenzeros = torch.zeros_like(tens_arrange)\n",
    "print(tenzeros)"
   ]
  },
  {
   "cell_type": "markdown",
   "metadata": {},
   "source": [
    "Tensor Data Types\n",
    "\n",
    "3 big issues in dealing with tensors are\n",
    "a. Tensors are not right datatype\n",
    "b. Tensors not right shape\n",
    "c. Tensors not on the right device"
   ]
  },
  {
   "cell_type": "code",
   "execution_count": 21,
   "metadata": {},
   "outputs": [
    {
     "name": "stdout",
     "output_type": "stream",
     "text": [
      "torch.float16\n"
     ]
    }
   ],
   "source": [
    "#  float 32 tensor\n",
    "\n",
    "float_32_tnsr = torch.tensor([[1.2 ,2.1 ,3] ,[2.5, 3.02 , 6.7] ] \n",
    "                             , dtype=torch.float16, \n",
    "                             device=None,\n",
    "                             requires_grad=False\n",
    "                             )\n",
    "print(float_32_tnsr.dtype)"
   ]
  },
  {
   "cell_type": "code",
   "execution_count": 26,
   "metadata": {},
   "outputs": [
    {
     "name": "stdout",
     "output_type": "stream",
     "text": [
      "torch.float32\n",
      "tensor([[1.2002, 2.0996, 3.0000],\n",
      "        [2.5000, 3.0195, 6.6992]])\n"
     ]
    }
   ],
   "source": [
    "float_16_tensor = float_32_tnsr.type(torch.float32)\n",
    "print(float_16_tensor.dtype)\n",
    "print(float_16_tensor)\n",
    "# print(float_32_tnsr)"
   ]
  },
  {
   "cell_type": "code",
   "execution_count": 28,
   "metadata": {},
   "outputs": [
    {
     "name": "stdout",
     "output_type": "stream",
     "text": [
      "tensor([[ 3.6006, 10.4980, 18.0000],\n",
      "        [ 7.5000, 15.0977, 40.1953]])\n",
      "torch.float32\n"
     ]
    }
   ],
   "source": [
    "int32_tnsr = torch.tensor([3,5,6] , dtype=torch.int32)\n",
    "\n",
    "multiple = float_16_tensor * int32_tnsr\n",
    "\n",
    "print(multiple)\n",
    "print(multiple.dtype)"
   ]
  },
  {
   "cell_type": "code",
   "execution_count": 36,
   "metadata": {},
   "outputs": [
    {
     "name": "stdout",
     "output_type": "stream",
     "text": [
      "tensor([[0.2197, 0.1709, 0.1846, 0.0560],\n",
      "        [0.2447, 0.8298, 0.5465, 0.5698],\n",
      "        [0.6937, 0.3672, 0.4215, 0.6789]])\n",
      "data type of tensor is torch.float32\n",
      "shape of tensor is :- torch.Size([3, 4])\n",
      "Device on tensor is cpu\n"
     ]
    }
   ],
   "source": [
    "#  Create a tensor \n",
    "some_tnsr = torch.rand(3,4)\n",
    "\n",
    "print(some_tnsr)\n",
    "print(f\"data type of tensor is {some_tnsr.dtype}\")\n",
    "print(f\"shape of tensor is :- {some_tnsr.shape}\")\n",
    "print(f\"Device on tensor is {some_tnsr.device}\")"
   ]
  },
  {
   "cell_type": "markdown",
   "metadata": {},
   "source": [
    "Tensors operation includes\n",
    "\n",
    "* Addition \n",
    "* Substraction \n",
    "* multiplicatio\n",
    "* Division\n",
    "* Matrix Multiplication"
   ]
  },
  {
   "cell_type": "code",
   "execution_count": 42,
   "metadata": {},
   "outputs": [
    {
     "name": "stdout",
     "output_type": "stream",
     "text": [
      "tensor([103, 104, 105])\n",
      "tensor([[15, 24, 35],\n",
      "        [ 3,  8, 15],\n",
      "        [ 9, 16, 25]])\n",
      "torch.Size([3]) torch.Size([3, 3]) torch.Size([3])\n",
      "tensor([34, 46, 58])\n"
     ]
    }
   ],
   "source": [
    "#  Manipulating the tensors\n",
    "\n",
    "t1 = torch.tensor([3,4,5])\n",
    "print(t1 +100) \n",
    "t2 = torch.tensor([[5,6,7] , [1,2,3] , [3,4,5]] )\n",
    "\n",
    "print(t1 * t2)\n",
    "\n",
    "t3 = torch.matmul(t1 ,t2)\n",
    "print(t1.shape , t2.shape , t3.shape)\n",
    "print(t3)\n",
    "\n",
    "\n"
   ]
  },
  {
   "cell_type": "code",
   "execution_count": 5,
   "metadata": {},
   "outputs": [
    {
     "name": "stdout",
     "output_type": "stream",
     "text": [
      "tensor([[0.5726, 0.7304, 0.5427, 0.4599, 0.6189, 0.3078],\n",
      "        [0.3984, 0.4439, 0.4058, 0.3582, 0.3265, 0.2151],\n",
      "        [0.7141, 1.0250, 0.6266, 0.5055, 0.9568, 0.3821],\n",
      "        [0.3230, 0.3345, 0.3402, 0.3055, 0.2235, 0.1748],\n",
      "        [0.8359, 0.7617, 0.9264, 0.8528, 0.4100, 0.4540]])\n"
     ]
    }
   ],
   "source": [
    "tensornew = torch.rand(5,6,7,8)\n",
    "\n",
    "# print(tensornew)\n",
    "# print(tensornew.ndim)\n",
    "\n",
    "print(torch.matmul(torch.rand(5,2) ,torch.rand(2,6) ))"
   ]
  },
  {
   "cell_type": "markdown",
   "metadata": {},
   "source": [
    "Transpose of tensors in pytorch"
   ]
  },
  {
   "cell_type": "code",
   "execution_count": 12,
   "metadata": {},
   "outputs": [
    {
     "name": "stdout",
     "output_type": "stream",
     "text": [
      "tensor([[2, 3],\n",
      "        [4, 5],\n",
      "        [6, 8]])\n",
      "torch.Size([3, 2])\n",
      "tensor([[2, 4, 6],\n",
      "        [3, 5, 8]])\n",
      "torch.Size([2, 3])\n"
     ]
    }
   ],
   "source": [
    "tensor_a = torch.tensor([[2,3,] , [4,5,] ,[6,8,] ])\n",
    "\n",
    "print(tensor_a)\n",
    "\n",
    "print(tensor_a.shape)\n",
    "\n",
    "tensor_b = tensor_a.T\n",
    "print(tensor_b)\n",
    "print(tensor_b.shape)"
   ]
  }
 ],
 "metadata": {
  "kernelspec": {
   "display_name": "Python 3",
   "language": "python",
   "name": "python3"
  },
  "language_info": {
   "codemirror_mode": {
    "name": "ipython",
    "version": 3
   },
   "file_extension": ".py",
   "mimetype": "text/x-python",
   "name": "python",
   "nbconvert_exporter": "python",
   "pygments_lexer": "ipython3",
   "version": "3.10.5"
  }
 },
 "nbformat": 4,
 "nbformat_minor": 2
}
