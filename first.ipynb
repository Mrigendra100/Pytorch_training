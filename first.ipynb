{
 "cells": [
  {
   "cell_type": "code",
   "execution_count": 2,
   "metadata": {},
   "outputs": [
    {
     "name": "stdout",
     "output_type": "stream",
     "text": [
      "2.1.2+cpu\n"
     ]
    }
   ],
   "source": [
    "import torch\n",
    "import pandas as pd\n",
    "import numpy as np\n",
    "import matplotlib.pyplot as plot\n",
    "\n",
    "print(torch.__version__)\n"
   ]
  },
  {
   "cell_type": "code",
   "execution_count": 6,
   "metadata": {},
   "outputs": [
    {
     "name": "stdout",
     "output_type": "stream",
     "text": [
      "tensor(7)\n",
      "0\n"
     ]
    }
   ],
   "source": [
    "# Introduction to tensors\n",
    "\n",
    "#  Scalar Tensors\n",
    "\n",
    "scalar = torch.tensor(7) #pytorch tensors are created using torch.tensor\n",
    "print(scalar)\n",
    "print(scalar.ndim)\n",
    "\n"
   ]
  },
  {
   "cell_type": "code",
   "execution_count": 19,
   "metadata": {},
   "outputs": [
    {
     "name": "stdout",
     "output_type": "stream",
     "text": [
      "tensor([7, 7])\n",
      "1\n",
      "tensor([[7, 7, 4],\n",
      "        [2, 4, 4],\n",
      "        [4, 5, 4]])\n",
      "2\n",
      "torch.Size([3, 3])\n",
      "tensor(7)\n"
     ]
    }
   ],
   "source": [
    "#  Vector\n",
    "\n",
    "vector = torch.tensor([7,7])\n",
    "\n",
    "vectornew = torch.tensor([[7,7,4], [2,4,4] , [4,5,4]  ])\n",
    "\n",
    "print(vector)\n",
    "print(vector.ndim)\n",
    "print(vectornew)\n",
    "print(vectornew.ndim)\n",
    "print(vectornew.shape)\n",
    "print(vectornew[0,0])"
   ]
  },
  {
   "cell_type": "code",
   "execution_count": 22,
   "metadata": {},
   "outputs": [
    {
     "name": "stdout",
     "output_type": "stream",
     "text": [
      "2\n",
      "tensor(5)\n",
      "torch.Size([2, 2])\n"
     ]
    }
   ],
   "source": [
    "#  Matrix \n",
    "\n",
    "matrix = torch.tensor([[1,2],[4,5]])\n",
    "\n",
    "print(matrix.ndim)\n",
    "print(matrix[1,1])\n",
    "print(matrix.shape)"
   ]
  },
  {
   "cell_type": "code",
   "execution_count": 26,
   "metadata": {},
   "outputs": [
    {
     "name": "stdout",
     "output_type": "stream",
     "text": [
      "3\n",
      "torch.Size([1, 3, 3])\n",
      "tensor([7, 8, 9])\n"
     ]
    }
   ],
   "source": [
    "# Tensor\n",
    "\n",
    "Tensor = torch.tensor([[[1,2,3],[4,5,6],[7,8,9]\n",
    "                        ]])\n",
    "\n",
    "print(Tensor.ndim)\n",
    "print(Tensor.shape)\n",
    "print(Tensor[0,2])"
   ]
  }
 ],
 "metadata": {
  "kernelspec": {
   "display_name": "Python 3",
   "language": "python",
   "name": "python3"
  },
  "language_info": {
   "codemirror_mode": {
    "name": "ipython",
    "version": 3
   },
   "file_extension": ".py",
   "mimetype": "text/x-python",
   "name": "python",
   "nbconvert_exporter": "python",
   "pygments_lexer": "ipython3",
   "version": "3.10.5"
  }
 },
 "nbformat": 4,
 "nbformat_minor": 2
}
